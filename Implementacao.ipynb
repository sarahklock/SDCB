{
  "nbformat": 4,
  "nbformat_minor": 0,
  "metadata": {
    "colab": {
      "name": "Implementacao.ipynb",
      "provenance": [],
      "collapsed_sections": [
        "e6oXLz2hP0Nr",
        "rkQ2dUtrSC5g",
        "5tL4_HGjK_lc",
        "VWizWTHN1pH-",
        "Z-WFZX_0EJD8",
        "Yx_cr4X0ELgq",
        "lmEZeXpDyKFX",
        "GvvNkPYt2CLa",
        "jEymxVm8a18f",
        "Q6QQWHVIa99v",
        "EY29dqDMbJSD",
        "jgGX4a8PqSqG",
        "rDPJ38tCvQID",
        "M0q-g18rvQIH",
        "ZwA6yKnIvQIM",
        "Dv_EYeaMvUEs",
        "LryokXYwqfDk",
        "LWu9-xlSqpKt",
        "8nupLkhgqw3e",
        "3ugCKta9sALY",
        "m9RuYnPDbp9_",
        "j-9-WquLbskb",
        "QZDFc_AVbuef",
        "M09UJHc9boJE",
        "d3B_8mSxhiLP",
        "5Nm3LBAGhjrU",
        "CtAhcv06vSk2",
        "8oWwkjDjXy9Y",
        "Fwdxt1kbfJwv",
        "0wSRXNywfXf7",
        "C-o7geQKfZ-V",
        "FSv6gq240Jng",
        "LuyhCPmxXnAM",
        "5m1vqi0kOxXQ",
        "YjabMYrEWL1R"
      ],
      "include_colab_link": true
    },
    "kernelspec": {
      "name": "python3",
      "display_name": "Python 3"
    },
    "language_info": {
      "name": "python"
    }
  },
  "cells": [
    {
      "cell_type": "markdown",
      "metadata": {
        "id": "view-in-github",
        "colab_type": "text"
      },
      "source": [
        "<a href=\"https://colab.research.google.com/github/sarahklock/SDCB/blob/main/Implementacao.ipynb\" target=\"_parent\"><img src=\"https://colab.research.google.com/assets/colab-badge.svg\" alt=\"Open In Colab\"/></a>"
      ]
    },
    {
      "cell_type": "markdown",
      "metadata": {
        "id": "HhTpv4GmpYsv"
      },
      "source": [
        ""
      ]
    },
    {
      "cell_type": "code",
      "metadata": {
        "id": "V5DXmmG1BG-t",
        "outputId": "430836bc-e7be-45f7-d50a-e06449b925cc",
        "colab": {
          "base_uri": "https://localhost:8080/"
        }
      },
      "source": [
        "!cat /proc/cpuinfo"
      ],
      "execution_count": null,
      "outputs": [
        {
          "output_type": "stream",
          "name": "stdout",
          "text": [
            "processor\t: 0\n",
            "vendor_id\t: GenuineIntel\n",
            "cpu family\t: 6\n",
            "model\t\t: 79\n",
            "model name\t: Intel(R) Xeon(R) CPU @ 2.20GHz\n",
            "stepping\t: 0\n",
            "microcode\t: 0x1\n",
            "cpu MHz\t\t: 2199.998\n",
            "cache size\t: 56320 KB\n",
            "physical id\t: 0\n",
            "siblings\t: 2\n",
            "core id\t\t: 0\n",
            "cpu cores\t: 1\n",
            "apicid\t\t: 0\n",
            "initial apicid\t: 0\n",
            "fpu\t\t: yes\n",
            "fpu_exception\t: yes\n",
            "cpuid level\t: 13\n",
            "wp\t\t: yes\n",
            "flags\t\t: fpu vme de pse tsc msr pae mce cx8 apic sep mtrr pge mca cmov pat pse36 clflush mmx fxsr sse sse2 ss ht syscall nx pdpe1gb rdtscp lm constant_tsc rep_good nopl xtopology nonstop_tsc cpuid tsc_known_freq pni pclmulqdq ssse3 fma cx16 pcid sse4_1 sse4_2 x2apic movbe popcnt aes xsave avx f16c rdrand hypervisor lahf_lm abm 3dnowprefetch invpcid_single ssbd ibrs ibpb stibp fsgsbase tsc_adjust bmi1 hle avx2 smep bmi2 erms invpcid rtm rdseed adx smap xsaveopt arat md_clear arch_capabilities\n",
            "bugs\t\t: cpu_meltdown spectre_v1 spectre_v2 spec_store_bypass l1tf mds swapgs taa\n",
            "bogomips\t: 4399.99\n",
            "clflush size\t: 64\n",
            "cache_alignment\t: 64\n",
            "address sizes\t: 46 bits physical, 48 bits virtual\n",
            "power management:\n",
            "\n",
            "processor\t: 1\n",
            "vendor_id\t: GenuineIntel\n",
            "cpu family\t: 6\n",
            "model\t\t: 79\n",
            "model name\t: Intel(R) Xeon(R) CPU @ 2.20GHz\n",
            "stepping\t: 0\n",
            "microcode\t: 0x1\n",
            "cpu MHz\t\t: 2199.998\n",
            "cache size\t: 56320 KB\n",
            "physical id\t: 0\n",
            "siblings\t: 2\n",
            "core id\t\t: 0\n",
            "cpu cores\t: 1\n",
            "apicid\t\t: 1\n",
            "initial apicid\t: 1\n",
            "fpu\t\t: yes\n",
            "fpu_exception\t: yes\n",
            "cpuid level\t: 13\n",
            "wp\t\t: yes\n",
            "flags\t\t: fpu vme de pse tsc msr pae mce cx8 apic sep mtrr pge mca cmov pat pse36 clflush mmx fxsr sse sse2 ss ht syscall nx pdpe1gb rdtscp lm constant_tsc rep_good nopl xtopology nonstop_tsc cpuid tsc_known_freq pni pclmulqdq ssse3 fma cx16 pcid sse4_1 sse4_2 x2apic movbe popcnt aes xsave avx f16c rdrand hypervisor lahf_lm abm 3dnowprefetch invpcid_single ssbd ibrs ibpb stibp fsgsbase tsc_adjust bmi1 hle avx2 smep bmi2 erms invpcid rtm rdseed adx smap xsaveopt arat md_clear arch_capabilities\n",
            "bugs\t\t: cpu_meltdown spectre_v1 spectre_v2 spec_store_bypass l1tf mds swapgs taa\n",
            "bogomips\t: 4399.99\n",
            "clflush size\t: 64\n",
            "cache_alignment\t: 64\n",
            "address sizes\t: 46 bits physical, 48 bits virtual\n",
            "power management:\n",
            "\n"
          ]
        }
      ]
    },
    {
      "cell_type": "markdown",
      "metadata": {
        "id": "jVoqqzw5BGYi"
      },
      "source": [
        ""
      ]
    },
    {
      "cell_type": "markdown",
      "metadata": {
        "id": "e6oXLz2hP0Nr"
      },
      "source": [
        "# Imports"
      ]
    },
    {
      "cell_type": "code",
      "metadata": {
        "colab": {
          "base_uri": "https://localhost:8080/"
        },
        "id": "edwQ-Kqvxrvm",
        "outputId": "1d9a88d4-4d50-46e9-8031-ccded1fb721f"
      },
      "source": [
        "# Importing drive\n",
        "from google.colab import drive\n",
        "drive.mount('/drive')\n",
        "DRIVE_PATH='/drive/Shareddrives/Tcc2021AS'"
      ],
      "execution_count": null,
      "outputs": [
        {
          "output_type": "stream",
          "name": "stdout",
          "text": [
            "Mounted at /drive\n"
          ]
        }
      ]
    },
    {
      "cell_type": "code",
      "metadata": {
        "id": "eZJjT5fdYfR8"
      },
      "source": [
        "!rm -Rf ./dvTools\n",
        "!cp -r \"$DRIVE_PATH/code/dvTools_pasta\" ./dvTools\n",
        "!cp \"$DRIVE_PATH/code/dvTools_pasta/grafo2.json\" ./test_graph.json\n",
        "!cp -r '/drive/Shareddrives/Tcc2021AS/code/4 - testes_dvTools/lib' ./dvTools_mod"
      ],
      "execution_count": null,
      "outputs": []
    },
    {
      "cell_type": "code",
      "metadata": {
        "id": "QlfF253EyKh-"
      },
      "source": [
        "# Importing libs\n",
        "import matplotlib.pyplot as plt\n",
        "import numpy as np\n",
        "\n",
        "from sklearn.cluster import KMeans\n",
        "\n",
        "import json\n",
        "import time\n",
        "import random\n",
        "import math\n",
        "\n",
        "import dvTools.dvTools\n",
        "from dvTools.dvTools.Grafo import Grafo\n",
        "from dvTools.dvTools.Caminhos import Caminhos\n",
        "import dvTools_mod"
      ],
      "execution_count": null,
      "outputs": []
    },
    {
      "cell_type": "code",
      "metadata": {
        "id": "2ew_eYWghjsc",
        "colab": {
          "base_uri": "https://localhost:8080/"
        },
        "outputId": "b0015ebe-1984-4a43-ea81-998353c9ae17"
      },
      "source": [
        "# Typing\n",
        "from typing import List, Optional, Tuple, Dict\n",
        "\n",
        "# A 2d point has 2 components, x and y\n",
        "PVector = Tuple[int, int]\n",
        "\n",
        "FrameType = Tuple[Tuple[int, int], Tuple[int, int]]\n",
        "# A frame will take the x coordinates on its first tuple and the the y\n",
        "# coordinates on its second tuple\n",
        "\n",
        "g = Grafo('test_graph.json')\n",
        "# The first value of each tuple will take the minium value of the coordinate\n",
        "# The second value of each tuple will take the maximum value of the coordinate\n",
        "kmeans = KMeans(n_clusters=2)\n",
        "kmeans.fit(np.array(g.coords_point()))"
      ],
      "execution_count": null,
      "outputs": [
        {
          "output_type": "execute_result",
          "data": {
            "text/plain": [
              "KMeans(algorithm='auto', copy_x=True, init='k-means++', max_iter=300,\n",
              "       n_clusters=2, n_init=10, n_jobs=None, precompute_distances='auto',\n",
              "       random_state=None, tol=0.0001, verbose=0)"
            ]
          },
          "metadata": {},
          "execution_count": 21
        }
      ]
    },
    {
      "cell_type": "markdown",
      "metadata": {
        "id": "5tL4_HGjK_lc"
      },
      "source": [
        "# Calculating the weight matrix according to the cartesian distances"
      ]
    },
    {
      "cell_type": "markdown",
      "metadata": {
        "id": "bko-DAPf2t94"
      },
      "source": [
        "A função seguinte aceita apenas pontos inteiros, ou seja, o indice dos pontos cadastrados no grafo. Existem três possibilidades para se inserir nos parâmetros:\n",
        "\n",
        "\n",
        "*   **Apenas o grafo**: retorna a matriz inteira, comparando todos os pontos com todos os pontos \n",
        "*   **O grafo e um ponto**: retorna uma lista com as distâncias de todos os pontos em relação ao ponto especifico inserido.\n",
        "*   **O grafo e dois pontos**: retorna apenas a distância entre esses dois pontos específicos.\n",
        "*   **O grafo e centroid=True**: retorna a matriz com os ultimos integrantes sendo os centroides. Se quero saber as distancias ao centroide de grupo x, vou até a posição [-(x+1)] ou [-x-1]. Soma-se 1 para permitir que haja o grupo 0.\n",
        " *Exemplo*: distance(g, centroid=True)[-(0+1)]\n",
        "\n",
        "\n",
        "\n",
        "\n",
        "\n",
        "\n"
      ]
    },
    {
      "cell_type": "code",
      "metadata": {
        "id": "08mmOKMzVfQD"
      },
      "source": [
        "def distance(grafo: Grafo,\n",
        "             ponto1: Optional[int]=None,\n",
        "             ponto2: Optional[int]=None,\n",
        "             centroid: bool=False,\n",
        "             verbose: bool=True) -> List:\n",
        "  \"\"\"\n",
        "  :param grafo: The graph where the points are\n",
        "  :param ponto1: The point where the distance will be taken from, if None, all points are considered\n",
        "  :param ponto2: The point where the distance will be taken to, if None, all points are considered\n",
        "  :param centroid: True if the centroids will be considered as point, in this case it is the last index\n",
        "  :param verbose: True if the function should be verbose\n",
        "  :return: list of computed distances between points\n",
        "  \"\"\"\n",
        "\n",
        "  coords = grafo.coords_point()\n",
        "  \n",
        "  # If centroid == True, the last elements fo the matriz will be the centroids,\n",
        "    # for it to be possible to calculate the distance between the points and the\n",
        "    # centroids. They can be accessed in a way that, if I want to know the\n",
        "    # distances of all points to the x centroid, I go to the position [-(x+1)]\n",
        "    # or [-x-1]. We add 1 to make it possible to exists the 0 group.\n",
        "      # Example: distance(g, centroid=True)[-(0+1)] \n",
        "\n",
        "  # Se centroid == True, os ultimos integrantes da matriz serao os centroides,\n",
        "    # para ser possivel calcular a distancia dos pontos para os centroides. Eles\n",
        "    # poderão ser acessados de modo que, se quero saber as distancias ao\n",
        "    # centroide de grupo x, vou até a posição [-(x+1)] ou [-x-1]. Soma-se 1 para\n",
        "    # permitir que haja o grupo 0.\n",
        "      # Exemplo: distance(g, centroid=True)[-(0+1)]\n",
        "\n",
        "  if centroid: \n",
        "    for i in kmeans.cluster_centers_:\n",
        "      coords.append(None)\n",
        "    j = 1\n",
        "    for i in kmeans.cluster_centers_:\n",
        "      coords[-j] = tuple(i)\n",
        "      j += 1\n",
        "     \n",
        "  \n",
        "  if ponto2 == None:\n",
        "    matriz = []\n",
        "\n",
        "    if ponto1 == None: \n",
        "      # If there werent inserted any points, the fuction returns the whole matrix.\n",
        "      if verbose:\n",
        "        print(\"Calculando as distancias de todos os pontos entre si...\")\n",
        "\n",
        "      i = 0\n",
        "      for ponto1 in coords:\n",
        "        matriz.append([])\n",
        "        \n",
        "        for ponto2 in coords:\n",
        "          distancia = ((ponto1[0] - ponto2[0])**2 + (ponto1[1] - ponto2[1])**2)**(1/2)\n",
        "          \n",
        "          matriz[i].append(distancia)\n",
        "        i += 1\n",
        "\n",
        "      return matriz\n",
        "    \n",
        "    else:\n",
        "      # If there was inserted one point, the fuction returns a list with the distance between this pont and all the others.\n",
        "      if verbose:\n",
        "        print(f\"Calculando as distancias de todos os pontos ao ponto {ponto1}...\")\n",
        "\n",
        "      \n",
        "      ponto1 = coords[ponto1]\n",
        "      \n",
        "      for ponto2 in coords:\n",
        "        distancia = ((ponto1[0] - ponto2[0])**2 + (ponto1[1] - ponto2[1])**2)**(1/2)\n",
        "        \n",
        "        matriz.append(distancia)\n",
        "\n",
        "      return matriz\n",
        "\n",
        "  else:\n",
        "    # If there were inserted two points, the fuction returns only the distance between these two points.\n",
        "    if verbose:\n",
        "      print(f\"Calculando a distancia entre o ponto {ponto1} e o ponto {ponto2}...\")\n",
        "\n",
        "    ponto1 = coords[ponto1]\n",
        "    ponto2 = coords[ponto2]\n",
        "\n",
        "    matriz = ((ponto1[0] - ponto2[0])**2 + (ponto1[1] - ponto2[1])**2)**(1/2)\n",
        "    return matriz"
      ],
      "execution_count": null,
      "outputs": []
    },
    {
      "cell_type": "markdown",
      "metadata": {
        "id": "VWizWTHN1pH-"
      },
      "source": [
        "## Unit tests"
      ]
    },
    {
      "cell_type": "markdown",
      "metadata": {
        "id": "Z-WFZX_0EJD8"
      },
      "source": [
        "### Definitions"
      ]
    },
    {
      "cell_type": "code",
      "metadata": {
        "id": "6sgKywcQ1oqk"
      },
      "source": [
        "def distance_all_test(source, result, verbose=True):\n",
        "  import os\n",
        "  filename = 'file.tmp'\n",
        "  \n",
        "  try:\n",
        "    os.remove(filename)\n",
        "  except FileNotFoundError:\n",
        "    pass\n",
        "  with open(filename, 'x') as f:\n",
        "    f.write(json.dumps(source))\n",
        "  \n",
        "  g = Grafo(filename)\n",
        "  \n",
        "  left, right = distance(g, verbose=False), result\n",
        "  assert left == right\n",
        "\n",
        "def distance_all_filtered_test(source, point, result):\n",
        "  import os\n",
        "  filename = 'file.tmp'\n",
        "  \n",
        "  try:\n",
        "    os.remove(filename)\n",
        "  except FileNotFoundError:\n",
        "    pass\n",
        "  with open(filename, 'x') as f:\n",
        "    f.write(json.dumps(source))\n",
        "  \n",
        "  g = Grafo(filename)\n",
        "  \n",
        "  left, right = distance(g, point, verbose=False), result\n",
        "  assert left == right\n",
        "\n",
        "def distance_p2p_test(source, point_a, point_b, result):\n",
        "  import os\n",
        "  filename = 'file.tmp'\n",
        "  \n",
        "  try:\n",
        "    os.remove(filename)\n",
        "  except FileNotFoundError:\n",
        "    pass\n",
        "  with open(filename, 'x') as f:\n",
        "    f.write(json.dumps(source))\n",
        "  \n",
        "  g = Grafo(filename)\n",
        "  \n",
        "  left, right = distance(g, point_a, point_b, verbose=False), result\n",
        "  assert left == right\n",
        "\n",
        "# Weights does not matter here\n",
        "triangle = {'0': {'coords': [0, 0],\n",
        "                  'edges': [1, 2],\n",
        "                  'weights': [999, 999]},\n",
        "            '1': {'coords': [3, 0],\n",
        "                  'edges': [0, 2],\n",
        "                  'weights': [999, 999]},\n",
        "            '2': {'coords': [0, 4],\n",
        "                  'edges': [0, 1],\n",
        "                  'weights': [999, 999]}} # The triangle 3, 4, 5\n",
        "\n",
        "square = {'0': {'coords': [1, 1],\n",
        "                'edges': [1, 2, 3],\n",
        "                'weights': [999, 999, 999]},\n",
        "          '1': {'coords': [-1, 1],\n",
        "                'edges': [0, 2, 3],\n",
        "                'weights': [999, 999, 999]},\n",
        "          '2': {'coords': [-1, -1],\n",
        "                'edges': [0, 1, 3],\n",
        "                'weights': [999, 999, 999]},\n",
        "          '3': {'coords': [1, -1],\n",
        "                'edges': [0, 1, 2],\n",
        "                'weights': [999, 999, 999]}}"
      ],
      "execution_count": null,
      "outputs": []
    },
    {
      "cell_type": "markdown",
      "metadata": {
        "id": "Yx_cr4X0ELgq"
      },
      "source": [
        "### Testing"
      ]
    },
    {
      "cell_type": "code",
      "metadata": {
        "colab": {
          "base_uri": "https://localhost:8080/"
        },
        "id": "ACPGz0b1_V2c",
        "outputId": "2a8623ee-c0bb-4b33-cd52-03b6bacff4e8"
      },
      "source": [
        "distance_all_test(triangle, [[0.0, 3.0, 4.0],\n",
        "                             [3.0, 0.0, 5.0],\n",
        "                             [4.0, 5.0, 0.0]])\n",
        "diagonal = 2 * math.sqrt(2)\n",
        "distance_all_test(square, [[0.0, 2.0, diagonal, 2.0],\n",
        "                           [2.0, 0.0, 2.0, diagonal],\n",
        "                           [diagonal, 2.0, 0.0, 2.0],\n",
        "                           [2.0, diagonal, 2.0, 0.0]])\n",
        "\n",
        "print('Passed')"
      ],
      "execution_count": null,
      "outputs": [
        {
          "output_type": "stream",
          "name": "stdout",
          "text": [
            "Passed\n"
          ]
        }
      ]
    },
    {
      "cell_type": "code",
      "metadata": {
        "id": "Dk09p1E3QquD",
        "colab": {
          "base_uri": "https://localhost:8080/"
        },
        "outputId": "4915ed2e-45bd-4679-af59-5386e77746a7"
      },
      "source": [
        "distance_all_filtered_test(triangle, 0, [0.0, 3.0, 4.0])\n",
        "distance_all_filtered_test(triangle, 1, [3.0, 0.0, 5.0])\n",
        "distance_all_filtered_test(square, 0, [0.0, 2.0, diagonal, 2.0])\n",
        "\n",
        "print('Passed')"
      ],
      "execution_count": null,
      "outputs": [
        {
          "output_type": "stream",
          "name": "stdout",
          "text": [
            "Passed\n"
          ]
        }
      ]
    },
    {
      "cell_type": "code",
      "metadata": {
        "colab": {
          "base_uri": "https://localhost:8080/"
        },
        "id": "2a_F0j3d46Os",
        "outputId": "d39daf81-5a58-4859-b974-21b358b199a9"
      },
      "source": [
        "distance_p2p_test(triangle, 0, 1, 3.0)\n",
        "distance_p2p_test(triangle, 1, 2, 5.0)\n",
        "distance_p2p_test(square, 2, 3, 2.0)\n",
        "\n",
        "print('Passed')"
      ],
      "execution_count": null,
      "outputs": [
        {
          "output_type": "stream",
          "name": "stdout",
          "text": [
            "Passed\n"
          ]
        }
      ]
    },
    {
      "cell_type": "code",
      "metadata": {
        "colab": {
          "base_uri": "https://localhost:8080/"
        },
        "id": "U6jGHluMyv-k",
        "outputId": "53ec8485-bd8f-4a32-c064-1c06714322ba"
      },
      "source": [
        "distance(g,centroid=True)"
      ],
      "execution_count": null,
      "outputs": [
        {
          "output_type": "stream",
          "name": "stdout",
          "text": [
            "Calculando as distancias de todos os pontos entre si...\n"
          ]
        },
        {
          "output_type": "execute_result",
          "data": {
            "text/plain": [
              "[[0.0,\n",
              "  342.78649331617487,\n",
              "  180.22832740720867,\n",
              "  332.3079595796646,\n",
              "  170.60000000000002,\n",
              "  250.8863089130214,\n",
              "  413.1407145271451,\n",
              "  394.2192917653828,\n",
              "  170.23816323674967,\n",
              "  294.26854809850136],\n",
              " [342.78649331617487,\n",
              "  0.0,\n",
              "  377.55869742332777,\n",
              "  417.6996528607607,\n",
              "  180.20349608151332,\n",
              "  238.45670466564783,\n",
              "  354.77904391325035,\n",
              "  185.20326670985048,\n",
              "  355.22688367983767,\n",
              "  171.3640755817858],\n",
              " [180.22832740720867,\n",
              "  377.55869742332777,\n",
              "  0.0,\n",
              "  158.0897529886109,\n",
              "  211.10720025617317,\n",
              "  169.50755145420513,\n",
              "  276.0706069106235,\n",
              "  337.2429984447416,\n",
              "  22.411951176895666,\n",
              "  246.22037364929815],\n",
              " [332.3079595796646,\n",
              "  417.6996528607607,\n",
              "  158.0897529886109,\n",
              "  0.0,\n",
              "  299.1516337912932,\n",
              "  180.3491059029681,\n",
              "  159.54739107863847,\n",
              "  303.2405810573513,\n",
              "  162.74030095694047,\n",
              "  249.489732053245],\n",
              " [170.60000000000002,\n",
              "  180.20349608151332,\n",
              "  211.10720025617317,\n",
              "  299.1516337912932,\n",
              "  0.0,\n",
              "  137.91569888885022,\n",
              "  309.3866351347453,\n",
              "  234.15561065240354,\n",
              "  189.02784333413837,\n",
              "  140.9736798129353],\n",
              " [250.8863089130214,\n",
              "  238.45670466564783,\n",
              "  169.50755145420513,\n",
              "  180.3491059029681,\n",
              "  137.91569888885022,\n",
              "  0.0,\n",
              "  173.52789401130875,\n",
              "  168.11784557268155,\n",
              "  150.8142529368126,\n",
              "  79.47677899864838],\n",
              " [413.1407145271451,\n",
              "  354.77904391325035,\n",
              "  276.0706069106235,\n",
              "  159.54739107863847,\n",
              "  309.3866351347453,\n",
              "  173.52789401130875,\n",
              "  0.0,\n",
              "  189.54392630733383,\n",
              "  268.5689648654306,\n",
              "  192.32888602599454],\n",
              " [394.2192917653828,\n",
              "  185.20326670985048,\n",
              "  337.2429984447416,\n",
              "  303.2405810573513,\n",
              "  234.15561065240354,\n",
              "  168.11784557268155,\n",
              "  189.54392630733383,\n",
              "  0.0,\n",
              "  318.9194290447389,\n",
              "  100.64245823706813],\n",
              " [170.23816323674967,\n",
              "  355.22688367983767,\n",
              "  22.411951176895666,\n",
              "  162.74030095694047,\n",
              "  189.02784333413837,\n",
              "  150.8142529368126,\n",
              "  268.5689648654306,\n",
              "  318.9194290447389,\n",
              "  0.0,\n",
              "  226.19743873193806],\n",
              " [294.26854809850136,\n",
              "  171.3640755817858,\n",
              "  246.22037364929815,\n",
              "  249.489732053245,\n",
              "  140.9736798129353,\n",
              "  79.47677899864838,\n",
              "  192.32888602599454,\n",
              "  100.64245823706813,\n",
              "  226.19743873193806,\n",
              "  0.0]]"
            ]
          },
          "metadata": {},
          "execution_count": 27
        }
      ]
    },
    {
      "cell_type": "markdown",
      "metadata": {
        "id": "ry5HUusz33S7"
      },
      "source": [
        "A função seguinte funciona apenas para coordenadas exatas, para facilitar às contas com os centróides."
      ]
    },
    {
      "cell_type": "code",
      "metadata": {
        "id": "mNhgMYgFzTm1"
      },
      "source": [
        "# Função que aceita coordenadas exatas.\n",
        "\n",
        "def distance_coords(coord1, coord2, grafo=None):\n",
        "  return ((coord1[0] - coord2[0])**2 + (coord1[1] - coord2[1])**2)**(1/2)"
      ],
      "execution_count": null,
      "outputs": []
    },
    {
      "cell_type": "code",
      "metadata": {
        "colab": {
          "base_uri": "https://localhost:8080/"
        },
        "id": "LfJxq05I8SF8",
        "outputId": "4ce3397e-71fd-4cbf-edb1-a145f8f25fdd"
      },
      "source": [
        "distance_coords([1,1],[1,2])"
      ],
      "execution_count": null,
      "outputs": [
        {
          "output_type": "execute_result",
          "data": {
            "text/plain": [
              "1.0"
            ]
          },
          "metadata": {},
          "execution_count": 29
        }
      ]
    },
    {
      "cell_type": "markdown",
      "metadata": {
        "id": "lmEZeXpDyKFX"
      },
      "source": [
        "# Hilbert's space-filling curve's algorithms"
      ]
    },
    {
      "cell_type": "markdown",
      "metadata": {
        "id": "GvvNkPYt2CLa"
      },
      "source": [
        "## Generate frame"
      ]
    },
    {
      "cell_type": "code",
      "metadata": {
        "id": "RR4eVHCj2Dyj"
      },
      "source": [
        "def gen_frame(point_mesh: np.ndarray) -> FrameType:\n",
        "  \"\"\"\n",
        "  :param point_mesh: An array of PVectors containing the points\n",
        "  :return: The limits of the frame in a matrix being (x, y) and (min, max)\n",
        "  \"\"\"\n",
        "\n",
        "  min_x, min_y = (np.min(point_mesh[:,0]),\n",
        "                  np.min(point_mesh[:,1]))\n",
        "\n",
        "  max_width = np.max((max(point_mesh[:,0]) - min_x,\n",
        "                   max(point_mesh[:,1]) - min_y))\n",
        "  return ((min_x, min_x + max_width),\n",
        "          (min_y, min_y + max_width))"
      ],
      "execution_count": null,
      "outputs": []
    },
    {
      "cell_type": "markdown",
      "metadata": {
        "id": "jEymxVm8a18f"
      },
      "source": [
        "### Unit tests"
      ]
    },
    {
      "cell_type": "markdown",
      "metadata": {
        "id": "Q6QQWHVIa99v"
      },
      "source": [
        "#### Definitions"
      ]
    },
    {
      "cell_type": "code",
      "metadata": {
        "id": "gYBVx46ma_Ts"
      },
      "source": [
        "points = [(0, 0), (-1, 5), (-50, 90), (999, 10), (90, 30), (29, 4)]"
      ],
      "execution_count": null,
      "outputs": []
    },
    {
      "cell_type": "markdown",
      "metadata": {
        "id": "EY29dqDMbJSD"
      },
      "source": [
        "#### Tests"
      ]
    },
    {
      "cell_type": "code",
      "metadata": {
        "colab": {
          "base_uri": "https://localhost:8080/"
        },
        "id": "hz2rEOxpbKpi",
        "outputId": "f4f07c55-cf89-4335-92cb-9b3f0099f75b"
      },
      "source": [
        "assert gen_frame(np.array(points)) == ((-50, 999), (0, 1049))\n",
        "\n",
        "print('Passed')"
      ],
      "execution_count": null,
      "outputs": [
        {
          "output_type": "stream",
          "name": "stdout",
          "text": [
            "Passed\n"
          ]
        }
      ]
    },
    {
      "cell_type": "markdown",
      "metadata": {
        "id": "jgGX4a8PqSqG"
      },
      "source": [
        "## Getting quadrant"
      ]
    },
    {
      "cell_type": "code",
      "metadata": {
        "id": "Aj91BKdxsnPs"
      },
      "source": [
        "def get_quadrant(point: PVector,\n",
        "                 frame: FrameType) -> int:\n",
        "  \"\"\"\n",
        "  :param point: The point coordinates\n",
        "  :param frame: The frame that contains the point\n",
        "  :return: An index between 0 and 3, defined by the quadrant of the frame where the point is\n",
        "  \"\"\"\n",
        "\n",
        "  leftX = point[0] <= (frame[0][0] + frame[0][1]) / 2\n",
        "  bottomY = point[1] <= (frame[1][0] + frame[1][1]) / 2\n",
        "  \n",
        "  if leftX and bottomY:\n",
        "    return 0\n",
        "  elif leftX and not(bottomY):\n",
        "    return 1\n",
        "  elif not(leftX) and not(bottomY):\n",
        "    return 2\n",
        "  else:\n",
        "    return 3"
      ],
      "execution_count": null,
      "outputs": []
    },
    {
      "cell_type": "markdown",
      "metadata": {
        "id": "rDPJ38tCvQID"
      },
      "source": [
        "### Unit tests"
      ]
    },
    {
      "cell_type": "markdown",
      "metadata": {
        "id": "M0q-g18rvQIH"
      },
      "source": [
        "#### Definitions"
      ]
    },
    {
      "cell_type": "code",
      "metadata": {
        "id": "_HfAo2xCvQIK"
      },
      "source": [
        "frame = ((-1 , 1), (-1, 1))"
      ],
      "execution_count": null,
      "outputs": []
    },
    {
      "cell_type": "markdown",
      "metadata": {
        "id": "ZwA6yKnIvQIM"
      },
      "source": [
        "#### Tests"
      ]
    },
    {
      "cell_type": "code",
      "metadata": {
        "colab": {
          "base_uri": "https://localhost:8080/"
        },
        "id": "aX6uRQnHvQIP",
        "outputId": "7290a8ea-d042-4ad3-d013-a5f4f520e063"
      },
      "source": [
        "assert get_quadrant((0.1, 0.1), frame) == 2\n",
        "assert get_quadrant((-0.1, 1), frame) == 1\n",
        "assert get_quadrant((0.5, -0.5), frame) == 3\n",
        "assert get_quadrant((-1, -1), frame) == 0\n",
        "\n",
        "print('Passed')"
      ],
      "execution_count": null,
      "outputs": [
        {
          "output_type": "stream",
          "name": "stdout",
          "text": [
            "Passed\n"
          ]
        }
      ]
    },
    {
      "cell_type": "markdown",
      "metadata": {
        "id": "Dv_EYeaMvUEs"
      },
      "source": [
        "## Quadrant filter"
      ]
    },
    {
      "cell_type": "code",
      "metadata": {
        "id": "nsBk1kziqO3W"
      },
      "source": [
        "def filter_quadrant(quadrant: int,\n",
        "                    frame: FrameType) -> FrameType:\n",
        "  \"\"\"\n",
        "  :param quadrant: The index, from 0 to 3, of the quadrant\n",
        "  :param frame: The frame that contains the quadrants\n",
        "  :return: The selected quadrant from the frame, excluding the other 3\n",
        "  \"\"\"\n",
        "\n",
        "  mean_x = (frame[0][0] + frame[0][1]) / 2\n",
        "  mean_y = (frame[1][0] + frame[1][1]) / 2\n",
        "  if quadrant == 0:\n",
        "    out = ((frame[0][0], mean_x), (frame[1][0], mean_y))\n",
        "  elif quadrant == 1:\n",
        "    out = ((frame[0][0], mean_x), (mean_y, frame[1][1]))\n",
        "  elif quadrant == 2:\n",
        "    out = ((mean_x, frame[0][1]), (mean_y, frame[1][1]))\n",
        "  elif quadrant == 3:\n",
        "    out = ((mean_x, frame[0][1]), (frame[1][0], mean_y))\n",
        "  \n",
        "  return out"
      ],
      "execution_count": null,
      "outputs": []
    },
    {
      "cell_type": "markdown",
      "metadata": {
        "id": "LryokXYwqfDk"
      },
      "source": [
        "### Unit tests"
      ]
    },
    {
      "cell_type": "markdown",
      "metadata": {
        "id": "LWu9-xlSqpKt"
      },
      "source": [
        "#### Definitions"
      ]
    },
    {
      "cell_type": "code",
      "metadata": {
        "id": "6bUCk_tnqgo3"
      },
      "source": [
        "frame = ((-1 , 1), (-1, 1))"
      ],
      "execution_count": null,
      "outputs": []
    },
    {
      "cell_type": "markdown",
      "metadata": {
        "id": "8nupLkhgqw3e"
      },
      "source": [
        "#### Tests"
      ]
    },
    {
      "cell_type": "code",
      "metadata": {
        "colab": {
          "base_uri": "https://localhost:8080/"
        },
        "id": "qhaHb3rCqyU8",
        "outputId": "b28ad612-28e7-4fd2-fccb-b9ac4712a61c"
      },
      "source": [
        "assert filter_quadrant(0, frame) == ((-1, 0), (-1, 0))\n",
        "assert filter_quadrant(1, frame) == ((-1, 0), (0, 1))\n",
        "assert filter_quadrant(2, frame) == ((0, 1), (0, 1))\n",
        "assert filter_quadrant(3, frame) == ((0, 1), (-1, 0))\n",
        "\n",
        "print('Passed')"
      ],
      "execution_count": null,
      "outputs": [
        {
          "output_type": "stream",
          "name": "stdout",
          "text": [
            "Passed\n"
          ]
        }
      ]
    },
    {
      "cell_type": "markdown",
      "metadata": {
        "id": "3ugCKta9sALY"
      },
      "source": [
        "## Getting point pos"
      ]
    },
    {
      "cell_type": "code",
      "metadata": {
        "id": "_a8epZdfyKGw"
      },
      "source": [
        "def update_rot(cur_rot: int, quadrant: int) -> int:\n",
        "  \"\"\"\n",
        "  :param int cur_rot: The current rotation of the Hilbert curve\n",
        "  :param int quadrant: The quadrant where the Hilbert curve is\n",
        "  :return: How many rotations needs to be added to keep degenerating the curve\n",
        "  :rtype: int\n",
        "  \"\"\"\n",
        "\n",
        "  if cur_rot == quadrant:\n",
        "    return 1\n",
        "  if cur_rot == ((quadrant + 1) % 4):\n",
        "    return -1\n",
        "  return 0\n",
        "\n",
        "def hsfc_get_point_pos(point: PVector,\n",
        "                       order: int,\n",
        "                       frame: FrameType) -> int:\n",
        "  \"\"\"\n",
        "  :param PVector point: The point whose position in the curve needs to be found\n",
        "  :param int order: The order of the total pseudo curve\n",
        "  :param FrameType frame: The frame that contains the pseudo curve\n",
        "  :return: The position of the closest edge of the pseudo curve from the input point\n",
        "  :rtype: int\n",
        "  \"\"\"\n",
        "\n",
        "  point_subpos = ((0, 1, 2, 3), # 0°\n",
        "                  (0, 3, 2, 1), # 90°\n",
        "                  (2, 3, 0 ,1), # 180°\n",
        "                  (2, 1, 0, 3)) # 270°\n",
        "\n",
        "  out, rot = 0, 0\n",
        "  for it in range(order + 1):\n",
        "    index = get_quadrant(point, frame)\n",
        "    frame = filter_quadrant(index, frame)\n",
        "    out += point_subpos[rot][index] * (4 ** (order - it))\n",
        "    rot += update_rot(rot, index)\n",
        "    if rot < 0:\n",
        "      rot = 4 + rot\n",
        "    else:\n",
        "      rot %= 4\n",
        "  return out"
      ],
      "execution_count": null,
      "outputs": []
    },
    {
      "cell_type": "markdown",
      "metadata": {
        "id": "m9RuYnPDbp9_"
      },
      "source": [
        "### Unit tests"
      ]
    },
    {
      "cell_type": "markdown",
      "metadata": {
        "id": "j-9-WquLbskb"
      },
      "source": [
        "#### Definitions"
      ]
    },
    {
      "cell_type": "code",
      "metadata": {
        "id": "1nTy-eVmdMFj"
      },
      "source": [
        "HILBERT_SFC_0 = ( (0, 0), (0, 1), (1, 1), (1, 0) )\n",
        "def hilbert_sfc_gen_curve(order):\n",
        "  if (order < 0):\n",
        "    raise ValueError('Pseudo Hilbert space filling curve must be in positive order')\n",
        "  global HILBERT_SFC_0\n",
        "\n",
        "  output = np.array(HILBERT_SFC_0)\n",
        "  \n",
        "  for cur_order in range(1, order + 1):\n",
        "    offset = 2 ** cur_order\n",
        "\n",
        "    bottom_left = output[:, [1, 0]].tolist()\n",
        "    top_left = (output + (0, offset)).tolist()\n",
        "    top_right = (output + offset).tolist()\n",
        "    bottom_right = (((offset * 2) - 1, offset - 1) - output[:, [1, 0]]).tolist()\n",
        "\n",
        "    output = np.array(bottom_left + top_left + top_right + bottom_right)\n",
        "  \n",
        "  return output"
      ],
      "execution_count": null,
      "outputs": []
    },
    {
      "cell_type": "code",
      "metadata": {
        "id": "fDHges93t57G"
      },
      "source": [
        "def hsfc_get_point_pos_debug(point: PVector,\n",
        "                             order: int,\n",
        "                             frame: FrameType) -> int:\n",
        "  or_frame = frame\n",
        "  \n",
        "  point_subpos = ((0, 1, 2, 3), # 0°\n",
        "                  (0, 3, 2, 1), # 90°\n",
        "                  (2, 3, 0 ,1), # 180°\n",
        "                  (2, 1, 0, 3)) # 270°\n",
        "\n",
        "  out, rot = 0, 0\n",
        "#  plt.plot((frame[0][0], frame[0][0], frame[0][1], frame[0][1]),\n",
        "#            (frame[1][0], frame[1][1], frame[1][1], frame[1][0]))\n",
        "  hsfc = hilbert_sfc_gen_curve(order).astype(float)\n",
        "  mult = ((frame[0][1] - frame[0][0]) / (2 ** (order + 1)))\n",
        "  hsfc *= mult\n",
        "  hsfc += [frame[0][0] + mult / 2, frame[1][0] + mult / 2]\n",
        "  for it in range(order + 1):\n",
        "    index = get_quadrant(point, frame)\n",
        "    frame = filter_quadrant(index, frame)\n",
        "\n",
        "    out += point_subpos[rot][index] * (4 ** (order - it))\n",
        "    rot += update_rot(rot, index)\n",
        "    ax = plt.figure(figsize=(6,6))\n",
        "    plt.scatter(point[0], point[1])\n",
        "    plt.plot(hsfc[:,0],\n",
        "             hsfc[:,1])\n",
        "    plt.scatter(hsfc[:,0],\n",
        "                hsfc[:,1],\n",
        "                c='k',\n",
        "                s=10)\n",
        "    plt.scatter(hsfc[:out,0],\n",
        "                hsfc[:out,1],\n",
        "                c='r',\n",
        "                s=10,\n",
        "                label=f'Pontos já percorridos: {out}')\n",
        "    plt.plot((frame[0][0], frame[0][0], frame[0][1], frame[0][1], frame[0][0]),\n",
        "             (frame[1][0], frame[1][1], frame[1][1], frame[1][0], frame[1][0]))\n",
        "    plt.scatter(point[0], point[1])\n",
        "    plt.plot((or_frame[0][0], or_frame[0][0], or_frame[0][1], or_frame[0][1]),\n",
        "             (or_frame[1][0], or_frame[1][1], or_frame[1][1], or_frame[1][0]))\n",
        "\n",
        "    ax.legend()\n",
        "    plt.show()\n",
        "  \n",
        "  ax = plt.figure(figsize=(6,6))\n",
        "  plt.scatter(point[0], point[1],)\n",
        "  plt.plot(hsfc[:,0],\n",
        "           hsfc[:,1])\n",
        "  plt.scatter(hsfc[:out,0],\n",
        "              hsfc[:out,1],\n",
        "              c='r',\n",
        "              s=10)\n",
        "  plt.scatter(hsfc[out,0],\n",
        "              hsfc[out,1],\n",
        "              c='g',\n",
        "              label=f'Posição final: {out}')\n",
        "  plt.plot((or_frame[0][0], or_frame[0][0], or_frame[0][1], or_frame[0][1]),\n",
        "           (or_frame[1][0], or_frame[1][1], or_frame[1][1], or_frame[1][0]))\n",
        "  ax.legend()\n",
        "  return out"
      ],
      "execution_count": null,
      "outputs": []
    },
    {
      "cell_type": "code",
      "metadata": {
        "id": "8M3vvTuqbuMR"
      },
      "source": [
        "points = np.array([(0, 0), (-5, 9), (10, 6), (7, 7), (3, 2)])\n",
        "frame = gen_frame(points)\n",
        "order = 2"
      ],
      "execution_count": null,
      "outputs": []
    },
    {
      "cell_type": "markdown",
      "metadata": {
        "id": "QZDFc_AVbuef"
      },
      "source": [
        "#### Tests"
      ]
    },
    {
      "cell_type": "code",
      "metadata": {
        "colab": {
          "base_uri": "https://localhost:8080/"
        },
        "id": "Nc_D-LQsch0o",
        "outputId": "07adcda4-4619-418c-de33-a53a2ce297d2"
      },
      "source": [
        "#assert hsfc_get_point_pos_debug(points[0], order, frame) == 4\n",
        "#assert hsfc_get_point_pos_debug(points[1], order, frame) == 16\n",
        "#assert hsfc_get_point_pos_debug(points[2], order, frame) == 48\n",
        "#assert hsfc_get_point_pos_debug(points[3], order, frame) == 49\n",
        "hsfc_get_point_pos_debug(points[4], order, frame)"
      ],
      "execution_count": null,
      "outputs": [
        {
          "output_type": "display_data",
          "data": {
            "image/png": "[encoded data removed]",
            "text/plain": [
              "<Figure size 432x432 with 1 Axes>"
            ]
          },
          "metadata": {
            "needs_background": "light"
          }
        },
        {
          "output_type": "display_data",
          "data": {
            "image/png": "[encoded data removed]",
            "text/plain": [
              "<Figure size 432x432 with 1 Axes>"
            ]
          },
          "metadata": {
            "needs_background": "light"
          }
        },
        {
          "output_type": "display_data",
          "data": {
            "image/png": "[encoded data removed]",
            "text/plain": [
              "<Figure size 432x432 with 1 Axes>"
            ]
          },
          "metadata": {
            "needs_background": "light"
          }
        },
        {
          "output_type": "execute_result",
          "data": {
            "text/plain": [
              "57"
            ]
          },
          "metadata": {},
          "execution_count": 71
        },
        {
          "output_type": "display_data",
          "data": {
            "image/png": "[encoded data removed]",
            "text/plain": [
              "<Figure size 432x432 with 1 Axes>"
            ]
          },
          "metadata": {
            "needs_background": "light"
          }
        }
      ]
    },
    {
      "cell_type": "markdown",
      "metadata": {
        "id": "M09UJHc9boJE"
      },
      "source": [
        "## Sorting points"
      ]
    },
    {
      "cell_type": "code",
      "metadata": {
        "id": "8q6_Y17fyKHB"
      },
      "source": [
        "import math\n",
        "def point_dist(p0, p1):\n",
        "  delta_x = p0[0] - p1[0]\n",
        "  delta_y = p0[1] - p1[1]\n",
        "  return math.sqrt(delta_x ** 2 + delta_y ** 2)\n",
        "\n",
        "def hsfc_sorted(points: List[PVector]) -> List[int]:\n",
        "  \"\"\"\n",
        "  :param point: The set of points to be sorted with the Hilbert space filling curve\n",
        "  :return: The indexes of the points from the list, sorted by the Hilbert curve\n",
        "  \"\"\"\n",
        "\n",
        "  frame = gen_frame(points)\n",
        "  min_dist = min([min([point_dist(points[p0], points[p1]) for p1 in range(len(points)) if p1 != p0]) for p0 in range(len(points))])\n",
        "  squares = math.ceil((frame[0][1] - frame[0][0]) / min_dist) ** 2\n",
        "  frame = gen_frame(points)\n",
        "  order = math.ceil(math.log(squares, 2) - 1)\n",
        "  out = list(range(len(points)))\n",
        "\n",
        "  return sorted(out, key = lambda x : hsfc_get_point_pos(points[x], order, frame))"
      ],
      "execution_count": null,
      "outputs": []
    },
    {
      "cell_type": "markdown",
      "metadata": {
        "id": "d3B_8mSxhiLP"
      },
      "source": [
        "### Unit tests"
      ]
    },
    {
      "cell_type": "markdown",
      "metadata": {
        "id": "5Nm3LBAGhjrU"
      },
      "source": [
        "#### Definitions"
      ]
    },
    {
      "cell_type": "code",
      "metadata": {
        "id": "_cPVlnIqhh4J"
      },
      "source": [
        "points = np.array([[x[0] for x in g.coords_point()], [y[1] for y in g.coords_point()]])\n",
        "order = hsfc_sorted(points)"
      ],
      "execution_count": null,
      "outputs": []
    },
    {
      "cell_type": "markdown",
      "metadata": {
        "id": "CtAhcv06vSk2"
      },
      "source": [
        "#### Tests"
      ]
    },
    {
      "cell_type": "code",
      "metadata": {
        "colab": {
          "base_uri": "https://localhost:8080/",
          "height": 432
        },
        "id": "1-gRtVSUvR3J",
        "outputId": "6a9396c4-73f6-4d26-90b7-a78bd244a1dd"
      },
      "source": [
        "plt.plot([points[0][idx] for idx in order], [points[1][idx] for idx in order])\n",
        "assert order == [3, 2, 0, 4, 1, 7, 5, 6]"
      ],
      "execution_count": null,
      "outputs": [
        {
          "output_type": "error",
          "ename": "AssertionError",
          "evalue": "ignored",
          "traceback": [
            "\u001b[0;31m---------------------------------------------------------------------------\u001b[0m",
            "\u001b[0;31mAssertionError\u001b[0m                            Traceback (most recent call last)",
            "\u001b[0;32m<ipython-input-91-ac63ac23465c>\u001b[0m in \u001b[0;36m<module>\u001b[0;34m()\u001b[0m\n\u001b[1;32m      1\u001b[0m \u001b[0mplt\u001b[0m\u001b[0;34m.\u001b[0m\u001b[0mplot\u001b[0m\u001b[0;34m(\u001b[0m\u001b[0;34m[\u001b[0m\u001b[0mpoints\u001b[0m\u001b[0;34m[\u001b[0m\u001b[0;36m0\u001b[0m\u001b[0;34m]\u001b[0m\u001b[0;34m[\u001b[0m\u001b[0midx\u001b[0m\u001b[0;34m]\u001b[0m \u001b[0;32mfor\u001b[0m \u001b[0midx\u001b[0m \u001b[0;32min\u001b[0m \u001b[0morder\u001b[0m\u001b[0;34m]\u001b[0m\u001b[0;34m,\u001b[0m \u001b[0;34m[\u001b[0m\u001b[0mpoints\u001b[0m\u001b[0;34m[\u001b[0m\u001b[0;36m1\u001b[0m\u001b[0;34m]\u001b[0m\u001b[0;34m[\u001b[0m\u001b[0midx\u001b[0m\u001b[0;34m]\u001b[0m \u001b[0;32mfor\u001b[0m \u001b[0midx\u001b[0m \u001b[0;32min\u001b[0m \u001b[0morder\u001b[0m\u001b[0;34m]\u001b[0m\u001b[0;34m)\u001b[0m\u001b[0;34m\u001b[0m\u001b[0;34m\u001b[0m\u001b[0m\n\u001b[0;32m----> 2\u001b[0;31m \u001b[0;32massert\u001b[0m \u001b[0morder\u001b[0m \u001b[0;34m==\u001b[0m \u001b[0;34m[\u001b[0m\u001b[0;36m3\u001b[0m\u001b[0;34m,\u001b[0m \u001b[0;36m2\u001b[0m\u001b[0;34m,\u001b[0m \u001b[0;36m0\u001b[0m\u001b[0;34m,\u001b[0m \u001b[0;36m4\u001b[0m\u001b[0;34m,\u001b[0m \u001b[0;36m1\u001b[0m\u001b[0;34m,\u001b[0m \u001b[0;36m7\u001b[0m\u001b[0;34m,\u001b[0m \u001b[0;36m5\u001b[0m\u001b[0;34m,\u001b[0m \u001b[0;36m6\u001b[0m\u001b[0;34m]\u001b[0m\u001b[0;34m\u001b[0m\u001b[0;34m\u001b[0m\u001b[0m\n\u001b[0m",
            "\u001b[0;31mAssertionError\u001b[0m: "
          ]
        },
        {
          "output_type": "display_data",
          "data": {
            "image/png": "[encoded data removed]",
            "text/plain": [
              "<Figure size 432x288 with 1 Axes>"
            ]
          },
          "metadata": {
            "needs_background": "light"
          }
        }
      ]
    },
    {
      "cell_type": "markdown",
      "metadata": {
        "id": "hZVa_LBsOqZE"
      },
      "source": [
        "# Discovering the closest points between the groups, according to  hilbert's curve"
      ]
    },
    {
      "cell_type": "markdown",
      "metadata": {
        "id": "8oWwkjDjXy9Y"
      },
      "source": [
        "### *Returns a list with the number of points of each group according to the index* "
      ]
    },
    {
      "cell_type": "code",
      "metadata": {
        "id": "u-qdpoPKDepP"
      },
      "source": [
        "def group_points(grafo: Grafo) -> List[List[int]]:\n",
        "  \"\"\"\n",
        "  :param grafo: The graph containing the points to be grouped\n",
        "  :return: A list of lists containing the points of each group\n",
        "  \"\"\"\n",
        "\n",
        "  array = []\n",
        "  for i in kmeans.cluster_centers_: # Adiciona uma lista na lista, com a posição 0 recebendo o centroide.\n",
        "    array.append([])\n",
        "\n",
        "  j = 0\n",
        "  for i in kmeans.labels_:\n",
        "    array[i].append(j)\n",
        "    j += 1\n",
        "  \n",
        "  return array"
      ],
      "execution_count": null,
      "outputs": []
    },
    {
      "cell_type": "code",
      "metadata": {
        "colab": {
          "base_uri": "https://localhost:8080/"
        },
        "id": "eZys7cFzFX15",
        "outputId": "beb6c529-b0cb-4112-ca2e-9db0b22c863a"
      },
      "source": [
        "group_points(g)"
      ],
      "execution_count": null,
      "outputs": [
        {
          "output_type": "execute_result",
          "data": {
            "text/plain": [
              "[[1, 4, 5, 6, 7], [0, 2, 3]]"
            ]
          },
          "metadata": {},
          "execution_count": 93
        }
      ]
    },
    {
      "cell_type": "markdown",
      "metadata": {
        "id": "Fwdxt1kbfJwv"
      },
      "source": [
        "#### Testes"
      ]
    },
    {
      "cell_type": "code",
      "metadata": {
        "id": "xl7D4dsKfO2K"
      },
      "source": [
        "array_points = np.array(g.coords_point())"
      ],
      "execution_count": null,
      "outputs": []
    },
    {
      "cell_type": "markdown",
      "metadata": {
        "id": "0wSRXNywfXf7"
      },
      "source": [
        "##### Analitico"
      ]
    },
    {
      "cell_type": "code",
      "metadata": {
        "id": "26AJ_VBCfLo4",
        "colab": {
          "base_uri": "https://localhost:8080/"
        },
        "outputId": "8fa150ed-d739-4721-dae4-2afa4c30d47f"
      },
      "source": [
        "def labels():\n",
        "  group = group_points(g)\n",
        "  output = []\n",
        "\n",
        "  for i in range(len(array_points)):\n",
        "    for j in range(len(group)):\n",
        "      if (i in group[j]):\n",
        "        output.append(j)\n",
        "        break\n",
        "  return output\n",
        "\n",
        "if (np.all(kmeans.labels_ == labels())):\n",
        "  print('Passou')\n",
        "else:\n",
        "  print('Nao passou')"
      ],
      "execution_count": null,
      "outputs": [
        {
          "output_type": "stream",
          "name": "stdout",
          "text": [
            "Passou\n"
          ]
        }
      ]
    },
    {
      "cell_type": "markdown",
      "metadata": {
        "id": "C-o7geQKfZ-V"
      },
      "source": [
        "##### Visual"
      ]
    },
    {
      "cell_type": "code",
      "metadata": {
        "id": "jADP-2edfdw0",
        "colab": {
          "base_uri": "https://localhost:8080/"
        },
        "outputId": "f0759fab-964f-434b-81ee-f90846821195"
      },
      "source": [
        "print('Segragacao de pontos segundo kmeans')\n",
        "plt.scatter(array_points[:, 0],\n",
        "            array_points[:, 1],\n",
        "            c = kmeans.labels_)\n",
        "plt.show()\n",
        "\n",
        "print('Segregacao de pontos')\n",
        "plt.scatter(array_points[:, 0],\n",
        "            array_points[:, 1],\n",
        "            c = labels())\n",
        "plt.show()"
      ],
      "execution_count": null,
      "outputs": [
        {
          "output_type": "stream",
          "name": "stdout",
          "text": [
            "Segragacao de pontos segundo kmeans\n"
          ]
        },
        {
          "output_type": "display_data",
          "data": {
            "image/png": "[encoded data removed]",
            "text/plain": [
              "<Figure size 432x288 with 1 Axes>"
            ]
          },
          "metadata": {
            "needs_background": "light"
          }
        },
        {
          "output_type": "stream",
          "name": "stdout",
          "text": [
            "Segregacao de pontos\n"
          ]
        },
        {
          "output_type": "display_data",
          "data": {
            "image/png": "[encoded data removed]",
            "text/plain": [
              "<Figure size 432x288 with 1 Axes>"
            ]
          },
          "metadata": {
            "needs_background": "light"
          }
        }
      ]
    },
    {
      "cell_type": "markdown",
      "metadata": {
        "id": "FSv6gq240Jng"
      },
      "source": [
        "### *Closest point to the centroid, closest point to the centroid*"
      ]
    },
    {
      "cell_type": "markdown",
      "metadata": {
        "id": "37178uLb4roW"
      },
      "source": [
        "**eng**: Useless. Does the same number of camprisons as the \"Closest point to the centroid, closest point\" one, and it is less precise. It is ilogical.\n",
        "\n",
        "**pt-br**: Inútil. Faz o mesmo número de comparações que a \"Ponto mais próximo ao centróide, ponto mais próximo\" e é menos precisa. Chega a ser até ilógica."
      ]
    },
    {
      "cell_type": "code",
      "metadata": {
        "id": "bNUmyW400N_R"
      },
      "source": [
        "def between_centroids(ordem: List[int],\n",
        "                      Grafo: Grafo) -> List[List[int]]:\n",
        "  \"\"\"\n",
        "  :param ordem: The order of passage through the groups\n",
        "  :param grafo: The graph containing all the points\n",
        "  :return: The index of each end of a group and the beggining of next\n",
        "  \"\"\"\n",
        "\n",
        "  pontosDeConexao = []\n",
        "  pontos_grupo = group_points(grafo)\n",
        "  matriz = distance(grafo, centroid=True)\n",
        "\n",
        "  for group in range(len(order)-1):\n",
        "    # Impedindo que o ponto incial de um grupo seja igual ao último. last_point é gerada na parte 3.\n",
        "    rearranjo_pontos = pontos_grupo[order[group]]\n",
        "    if not group == 0:\n",
        "      rearranjo_pontos.remove(last_point)\n",
        "\n",
        "    # Encontra o ponto do grupo seguinte mais proximo ao centroide.\n",
        "    vetor = matriz[-order[group+1]-1]\n",
        "    distancia = -1\n",
        "\n",
        "    for point in rearranjo_pontos:\n",
        "      if vetor[point] < distancia or distancia == -1:\n",
        "        distancia = vetor[point]\n",
        "        pontos_conexao = point\n",
        "    \n",
        "    pontos_conexao = [pontos_conexao, None]\n",
        "\n",
        "    # Encontra o ponto do grupo seguinte mais proximo ao centroide.\n",
        "    vetor = matriz[-order[group]-1]\n",
        "    distancia = -1\n",
        "\n",
        "    for point in pontos_grupo[order[group+1]]:\n",
        "      if vetor[point] < distancia or distancia == -1:\n",
        "        distancia = vetor[point]\n",
        "        pontos_conexao[1] = point\n",
        "    \n",
        "    last_point = pontos_conexao[1]\n",
        "\n",
        "    pontosDeConexao.append(pontos_conexao)\n",
        "  \n",
        "  return pontosDeConexao"
      ],
      "execution_count": null,
      "outputs": []
    },
    {
      "cell_type": "code",
      "metadata": {
        "colab": {
          "base_uri": "https://localhost:8080/",
          "height": 288
        },
        "id": "vFZeII5O2kx7",
        "outputId": "08c1af0b-90dc-4cda-cac8-04c76d7895d6"
      },
      "source": [
        "between_centroids([0,1,2], g)"
      ],
      "execution_count": null,
      "outputs": [
        {
          "output_type": "error",
          "ename": "NameError",
          "evalue": "ignored",
          "traceback": [
            "\u001b[0;31m---------------------------------------------------------------------------\u001b[0m",
            "\u001b[0;31mNameError\u001b[0m                                 Traceback (most recent call last)",
            "\u001b[0;32m<ipython-input-98-e98dce13cf1f>\u001b[0m in \u001b[0;36m<module>\u001b[0;34m()\u001b[0m\n\u001b[0;32m----> 1\u001b[0;31m \u001b[0mbetween_centroids\u001b[0m\u001b[0;34m(\u001b[0m\u001b[0;34m[\u001b[0m\u001b[0;36m0\u001b[0m\u001b[0;34m,\u001b[0m\u001b[0;36m1\u001b[0m\u001b[0;34m,\u001b[0m\u001b[0;36m2\u001b[0m\u001b[0;34m]\u001b[0m\u001b[0;34m,\u001b[0m \u001b[0mg\u001b[0m\u001b[0;34m)\u001b[0m\u001b[0;34m\u001b[0m\u001b[0;34m\u001b[0m\u001b[0m\n\u001b[0m",
            "\u001b[0;32m<ipython-input-97-71c9447b0ce2>\u001b[0m in \u001b[0;36mbetween_centroids\u001b[0;34m(ordem, Grafo)\u001b[0m\n\u001b[1;32m      8\u001b[0m \u001b[0;34m\u001b[0m\u001b[0m\n\u001b[1;32m      9\u001b[0m   \u001b[0mpontosDeConexao\u001b[0m \u001b[0;34m=\u001b[0m \u001b[0;34m[\u001b[0m\u001b[0;34m]\u001b[0m\u001b[0;34m\u001b[0m\u001b[0;34m\u001b[0m\u001b[0m\n\u001b[0;32m---> 10\u001b[0;31m   \u001b[0mpontos_grupo\u001b[0m \u001b[0;34m=\u001b[0m \u001b[0mgroup_points\u001b[0m\u001b[0;34m(\u001b[0m\u001b[0mgrafo\u001b[0m\u001b[0;34m)\u001b[0m\u001b[0;34m\u001b[0m\u001b[0;34m\u001b[0m\u001b[0m\n\u001b[0m\u001b[1;32m     11\u001b[0m   \u001b[0mmatriz\u001b[0m \u001b[0;34m=\u001b[0m \u001b[0mdistance\u001b[0m\u001b[0;34m(\u001b[0m\u001b[0mgrafo\u001b[0m\u001b[0;34m,\u001b[0m \u001b[0mcentroid\u001b[0m\u001b[0;34m=\u001b[0m\u001b[0;32mTrue\u001b[0m\u001b[0;34m)\u001b[0m\u001b[0;34m\u001b[0m\u001b[0;34m\u001b[0m\u001b[0m\n\u001b[1;32m     12\u001b[0m \u001b[0;34m\u001b[0m\u001b[0m\n",
            "\u001b[0;31mNameError\u001b[0m: name 'grafo' is not defined"
          ]
        }
      ]
    },
    {
      "cell_type": "markdown",
      "metadata": {
        "id": "LuyhCPmxXnAM"
      },
      "source": [
        "### *Closest point to the centroid, closest point*\n",
        "\n",
        "**eng**: Both in this function and the next one have the option of adding the matrix with wights. If it isn't added, we use the cartesian distance matrix.\n",
        "\n",
        "**pt-br**: Tanto nessa função quanto na proxima, \"Força bruta: ponto próximo, ponto próximo\", dá-se a opção de adicionar uma matriz com os pesos. Caso não seja adicionado, usaremos a matriz de distancias cartesianas."
      ]
    },
    {
      "cell_type": "code",
      "metadata": {
        "id": "xVm84hku48QN"
      },
      "source": [
        "def conecting_centroid(ordem: List[int],\n",
        "                       grafo: Grafo,\n",
        "                       matriz: Optional[List[List[int]]]=None) -> List[List[int]]:\n",
        "  \"\"\"\n",
        "  :param ordem: The order of passage through the groups\n",
        "  :param grafo: The graph containing all the points\n",
        "  :param matriz: Default None, Weights to consider instead of euclidian distance\n",
        "  :return: The index of each end of a group and the beggining of next\n",
        "  \"\"\"\n",
        "\n",
        "  pontos_proximos = []\n",
        "  pontos_grupo = group_points(grafo)\n",
        "  \n",
        "  # Pode adicionar uma matriz com os pesos. Caso não acontecer, a função usará a matriz de distancias cartograficas.\n",
        "  # You can add a weight matrix. If not, the fuction will use the cartesian distance matrix.\n",
        "  if matriz==None:\n",
        "    matriz = distance(grafo, centroid=True)\n",
        "\n",
        "  for group in range(len(order)-1):\n",
        "    \n",
        "    # Impedindo que o ponto incial de um grupo seja igual ao último. last_point é gerada na parte 2.\n",
        "    # Preventing the first point to be the same as the last one. last_point is created in part 2.\n",
        "    rearranjo_pontos = pontos_grupo[order[group]]\n",
        "    if not group == 0:\n",
        "      rearranjo_pontos.remove(last_point)\n",
        "\n",
        "    # Encontra o ponto do grupo seguinte mais proximo ao centroide.\n",
        "    # Finds the next group's point that is closest to the centroid.\n",
        "    vetor = matriz[-order[group]-1]\n",
        "    distancia = -1\n",
        "\n",
        "    for point in pontos_grupo[order[group+1]]:\n",
        "      if vetor[point] < distancia or distancia == -1:\n",
        "        distancia = vetor[point]\n",
        "        pontos_conexao = point\n",
        "    \n",
        "    last_point = pontos_conexao\n",
        "    pontos_conexao = [None, pontos_conexao]\n",
        "\n",
        "    # Encontra o ponto mais próximo do ponto de conexão.\n",
        "    # Finds the closest point to the conextion point.\n",
        "    p_matriz = matriz[pontos_conexao[1]]\n",
        "    distancia = -1\n",
        "\n",
        "    for point in rearranjo_pontos:\n",
        "      if p_matriz[point] < distancia or distancia == -1:\n",
        "        distancia = p_matriz[point]\n",
        "        pontos_conexao[0] = point\n",
        "    \n",
        "    pontos_proximos.append(pontos_conexao)\n",
        "  \n",
        "  return pontos_proximos     "
      ],
      "execution_count": null,
      "outputs": []
    },
    {
      "cell_type": "code",
      "metadata": {
        "id": "SF8E31y36ELP"
      },
      "source": [
        "conecting_centroid([0,1,2], g)"
      ],
      "execution_count": null,
      "outputs": []
    },
    {
      "cell_type": "markdown",
      "metadata": {
        "id": "PipfjGGVYCt1"
      },
      "source": [
        "### *Brute force: closest point, closest point*"
      ]
    },
    {
      "cell_type": "code",
      "metadata": {
        "id": "-dm0YsTqwDS2"
      },
      "source": [
        "def conection_points(ordem: List[int],\n",
        "                     grafo: Grafo,\n",
        "                     matriz: Optional[List[List[int]]]=None) -> List[List[int]]:\n",
        "  \"\"\"\n",
        "  :param ordem: The order of passage through the groups\n",
        "  :param grafo: The graph containing all the points\n",
        "  :param matriz: Default None, Weights to consider instead of euclidian distance\n",
        "  :return: The index of each end of a group and the beggining of next\n",
        "  \"\"\"\n",
        "\n",
        "  pontos_grupo = group_points(grafo)\n",
        "  pontosDeConexao = []\n",
        "  last_point = -1\n",
        "  # Pode adicionar uma matriz com os pesos. Caso não acontecer, a função usará a\n",
        "  # matriz de distancias cartograficas.\n",
        "  # You can add a weight matrix. If not, the fuction will use the cartesian\n",
        "  # distance matrix.\n",
        "  if matriz==None:\n",
        "    matriz = distance(grafo, verbose=False)\n",
        "  \n",
        "  for i in range(len(ordem)-1):\n",
        "    distancia = -1\n",
        "\n",
        "    for j in pontos_grupo[ordem[i]]:\n",
        "      for k in pontos_grupo[ordem[i+1]]:\n",
        "        if not j == last_point:\n",
        "          if matriz[j][k] < distancia or distancia == -1:\n",
        "            distancia = matriz[j][k]\n",
        "            pontos = [j,k]\n",
        "    \n",
        "    last_point = pontos[1]\n",
        "    pontosDeConexao.append(pontos)\n",
        "  \n",
        "  return pontosDeConexao    "
      ],
      "execution_count": null,
      "outputs": []
    },
    {
      "cell_type": "code",
      "metadata": {
        "id": "fabIggg2ywYo"
      },
      "source": [
        "conection_points([0,1,2],g)"
      ],
      "execution_count": null,
      "outputs": []
    },
    {
      "cell_type": "code",
      "metadata": {
        "id": "kzYM23B6hIJU"
      },
      "source": [
        ""
      ],
      "execution_count": null,
      "outputs": []
    },
    {
      "cell_type": "markdown",
      "metadata": {
        "id": "5m1vqi0kOxXQ"
      },
      "source": [
        "# Tests & Comparisons"
      ]
    },
    {
      "cell_type": "code",
      "metadata": {
        "id": "w0kry4HKl5dh"
      },
      "source": [
        "# Essa celula usa o grafo pronto\n",
        "# This cell uses the ready-made graph.\n",
        "\n",
        "g = Grafo('./dvTools/exemplo2.json')\n",
        "array_points = np.array(g.coords_point())\n",
        "kmeans = KMeans(n_clusters = 3).fit(array_points)"
      ],
      "execution_count": null,
      "outputs": []
    },
    {
      "cell_type": "code",
      "metadata": {
        "id": "cA-djSMfl1LL"
      },
      "source": [
        "# Essa celula usa um grafo aleatorio\n",
        "# This cell uses a random graph.\n",
        "\n",
        "n_points = 128\n",
        "\n",
        "#g = dvTools_mod.Graph(data = genmesh(n_points))\n",
        "array_points = np.array(g.coords_point())\n",
        "\n",
        "def clusterization(array_points):\n",
        "  kmeans = None\n",
        "  POINTS_PER_CLUSTERS = 8 # 4 é um número levemente abaixo de 8, o número ideal de pontos por cluster \n",
        "                          # 4 is slightly lower than 8, the ideal cluster number\n",
        "  k = math.ceil(len(array_points) / POINTS_PER_CLUSTERS)\n",
        "  while True:\n",
        "    kmeans = KMeans(n_clusters = k).fit(array_points)\n",
        "    pointsperlabel = [ sum(kmeans.labels_ == label) for label in kmeans.labels_ ]\n",
        "    if (max(pointsperlabel) <= 10): # Importante: o resultado só é válido quando um cluster não possui mais de 10 pontos.\n",
        "                                    # IMPORTANT: the result is only valid if the cluster has less than 10 points.\n",
        "    \n",
        "      break\n",
        "    k += 1 # Caso qualquer cluster tenha mais de 10 pontos adiciona 1 ao número de k clusters a serem gerados e repete o processo\n",
        "            # If a cluster have more than 10 points, it adds 1 to the k number of clusters and repeats the process.\n",
        "  return kmeans\n",
        "\n",
        "kmeans = clusterization(array_points)"
      ],
      "execution_count": null,
      "outputs": []
    },
    {
      "cell_type": "code",
      "metadata": {
        "id": "j4jVACTiPWSS"
      },
      "source": [
        "order = hsfc_sorted(kmeans.cluster_centers_)"
      ],
      "execution_count": null,
      "outputs": []
    },
    {
      "cell_type": "code",
      "metadata": {
        "id": "9-kLgvuvQw-2"
      },
      "source": [
        "def itop(graph, order, function): # Index to Points, mas com um nome mais radical e menos cafona 😎\n",
        "  output = []\n",
        "  for pair in function(order, graph):\n",
        "    output.append([array_points[pair[0]],\n",
        "                   array_points[pair[1]]])\n",
        "  return output"
      ],
      "execution_count": null,
      "outputs": []
    },
    {
      "cell_type": "code",
      "metadata": {
        "colab": {
          "base_uri": "https://localhost:8080/"
        },
        "id": "G2KOJp-Xi-18",
        "outputId": "d227b30f-7ad6-45f0-fe57-1eae2cc14f03"
      },
      "source": [
        "print(f'A ordem vai ser: {order}')"
      ],
      "execution_count": null,
      "outputs": [
        {
          "output_type": "stream",
          "name": "stdout",
          "text": [
            "A ordem vai ser: [1, 0]\n"
          ]
        }
      ]
    },
    {
      "cell_type": "code",
      "metadata": {
        "colab": {
          "base_uri": "https://localhost:8080/",
          "height": 284
        },
        "id": "Q6umxJbDtMY2",
        "outputId": "9f4b33c1-bf76-471e-f8a8-f5f698bc1163"
      },
      "source": [
        "centers = np.array([ kmeans.cluster_centers_[n] for n in order ])\n",
        "\n",
        "plt.plot(centers[:, 0],\n",
        "         centers[:, 1])\n",
        "plt.scatter(centers[:, 0],\n",
        "            centers[:, 1])"
      ],
      "execution_count": null,
      "outputs": [
        {
          "output_type": "execute_result",
          "data": {
            "text/plain": [
              "<matplotlib.collections.PathCollection at 0x7fb8f3e67f50>"
            ]
          },
          "metadata": {},
          "execution_count": 55
        },
        {
          "output_type": "display_data",
          "data": {
            "image/png": "[encoded data removed]",
            "text/plain": [
              "<Figure size 432x288 with 1 Axes>"
            ]
          },
          "metadata": {
            "needs_background": "light"
          }
        }
      ]
    },
    {
      "cell_type": "code",
      "metadata": {
        "colab": {
          "base_uri": "https://localhost:8080/",
          "height": 551
        },
        "id": "f-d_EHakmofM",
        "outputId": "b08a134e-a1a9-421e-ff6e-2f2688668521"
      },
      "source": [
        "for label in order:\n",
        "  print(f'Label {label}')\n",
        "  plt.scatter(array_points[ kmeans.labels_ == label, 0 ],\n",
        "              array_points[ kmeans.labels_ == label, 1 ],\n",
        "              c = 'r')\n",
        "  plt.scatter(array_points[ kmeans.labels_ != label, 0 ],\n",
        "              array_points[ kmeans.labels_ != label, 1 ],\n",
        "              c = 'k')\n",
        "  plt.show()"
      ],
      "execution_count": null,
      "outputs": [
        {
          "output_type": "stream",
          "name": "stdout",
          "text": [
            "Label 1\n"
          ]
        },
        {
          "output_type": "display_data",
          "data": {
            "image/png": "[encoded data removed]",
            "text/plain": [
              "<Figure size 432x288 with 1 Axes>"
            ]
          },
          "metadata": {
            "needs_background": "light"
          }
        },
        {
          "output_type": "stream",
          "name": "stdout",
          "text": [
            "Label 0\n"
          ]
        },
        {
          "output_type": "display_data",
          "data": {
            "image/png": "[encoded data removed]",
            "text/plain": [
              "<Figure size 432x288 with 1 Axes>"
            ]
          },
          "metadata": {
            "needs_background": "light"
          }
        }
      ]
    },
    {
      "cell_type": "code",
      "metadata": {
        "colab": {
          "base_uri": "https://localhost:8080/",
          "height": 855
        },
        "id": "3M9ZEa4WRT2j",
        "outputId": "24c8fe51-d9f2-40c5-9e49-8b3f74cc4cc7"
      },
      "source": [
        "for function in [between_centroids, conecting_centroid, conection_points]: # Python aceita uma funcao ser passada por parametro 🤔\n",
        "  pairs = itop(g, order, function)\n",
        "  cost = 0\n",
        "  for pair in pairs:\n",
        "    cost += math.sqrt( ((pair[0][0] - pair[1][0]) ** 2) +\n",
        "                       ((pair[0][1] - pair[1][1]) ** 2) )\n",
        "\n",
        "  print(f'Custo inter-grupos: {cost}')\n",
        "\n",
        "  for pair in pairs:\n",
        "    plt.arrow(pair[0][0],\n",
        "              pair[0][1],\n",
        "              (pair[1][0] - pair[0][0]) / 4,\n",
        "              (pair[1][1] - pair[0][1]) / 4,\n",
        "              width = 1,\n",
        "              color = 'k')\n",
        "\n",
        "  plt.scatter(kmeans.cluster_centers_[:, 0],\n",
        "              kmeans.cluster_centers_[:, 1],\n",
        "              marker = '*',\n",
        "              edgecolor = 'black',\n",
        "              s = 128)\n",
        "    \n",
        "  plt.scatter(array_points[:, 0],\n",
        "              array_points[:, 1],\n",
        "              edgecolor = 'k',\n",
        "              c = kmeans.labels_)\n",
        "\n",
        "  plt.show()"
      ],
      "execution_count": null,
      "outputs": [
        {
          "output_type": "stream",
          "name": "stdout",
          "text": [
            "Calculando as distancias de todos os pontos entre si...\n",
            "Custo inter-grupos: 18.969129216967236\n"
          ]
        },
        {
          "output_type": "display_data",
          "data": {
            "image/png": "[encoded data removed]",
            "text/plain": [
              "<Figure size 432x288 with 1 Axes>"
            ]
          },
          "metadata": {
            "needs_background": "light"
          }
        },
        {
          "output_type": "stream",
          "name": "stdout",
          "text": [
            "Calculando as distancias de todos os pontos entre si...\n",
            "Custo inter-grupos: 18.969129216967236\n"
          ]
        },
        {
          "output_type": "display_data",
          "data": {
            "image/png": "[encoded data removed]",
            "text/plain": [
              "<Figure size 432x288 with 1 Axes>"
            ]
          },
          "metadata": {
            "needs_background": "light"
          }
        },
        {
          "output_type": "stream",
          "name": "stdout",
          "text": [
            "Custo inter-grupos: 18.105523038564776\n"
          ]
        },
        {
          "output_type": "display_data",
          "data": {
            "image/png": "[encoded data removed]",
            "text/plain": [
              "<Figure size 432x288 with 1 Axes>"
            ]
          },
          "metadata": {
            "needs_background": "light"
          }
        }
      ]
    },
    {
      "cell_type": "markdown",
      "metadata": {
        "id": "7qEK0fsSUxD3"
      },
      "source": [
        "# Brute force inside the groups"
      ]
    },
    {
      "cell_type": "code",
      "metadata": {
        "id": "I6I2ok3omiAk"
      },
      "source": [
        "def dist(p0: PVector, p1: PVector) -> float:\n",
        "  \"\"\"\n",
        "  :param p0: The point to take distance from\n",
        "  :param p1: The point to take distance to\n",
        "  :return: The euclidian distance from one point to another\n",
        "  \"\"\"\n",
        "\n",
        "  dist_x = abs(p0[0] - p1[0])\n",
        "  dist_y = abs(p0[1] - p1[1])\n",
        "  return math.sqrt(dist_x ** 2 + dist_y ** 2)\n",
        "\n",
        "def gen_mesh(n_points: int) -> Dict:\n",
        "  \"\"\"\n",
        "  :param n_points: The number of points wished at the mesh\n",
        "  :return: A randomly generated mesh\n",
        "  \"\"\"\n",
        "\n",
        "  mesh = dict()\n",
        "  for i in range(n_points):\n",
        "    mesh[i] = {\n",
        "        'coords': [random.randint(0, 1024), random.randint(0, 1024)],\n",
        "        'edges': [ item + 1 if item >= i else item for item in range(n_points - 1) ],\n",
        "        'weights': list()\n",
        "    }\n",
        "  for i in range(n_points):\n",
        "    for j in range(n_points - 1):\n",
        "      mesh[i]['weights'].append(dist(mesh[i]['coords'], mesh[j + 1 if j >= i else j]['coords']))\n",
        "  \n",
        "  return mesh"
      ],
      "execution_count": null,
      "outputs": []
    },
    {
      "cell_type": "code",
      "metadata": {
        "id": "x1jatbjfU0uB"
      },
      "source": [
        "import os\n",
        "\n",
        "def dist(p0, p1):\n",
        "  dist_x = abs(p0[0] - p1[0])\n",
        "  dist_y = abs(p0[1] - p1[1])\n",
        "  return math.sqrt(dist_x ** 2 + dist_y ** 2)\n",
        "\n",
        "def gen_mesh(n_points: int, filename: str):\n",
        "  try:\n",
        "    os.remove(filename)\n",
        "  except FileNotFoundError:\n",
        "    pass\n",
        "  mesh = dict()\n",
        "  for i in range(n_points):\n",
        "    mesh[i] = {\n",
        "        'coords': [random.randint(0, 999999), random.randint(0, 999999)],\n",
        "        'edges': [ item + 1 if item >= i else item for item in range(n_points - 1) ],\n",
        "        'weights': list()\n",
        "    }\n",
        "  for i in range(n_points):\n",
        "    for j in range(n_points - 1):\n",
        "      mesh[i]['weights'].append(dist(mesh[i]['coords'], mesh[j + 1 if j >= i else j]['coords']))\n",
        "  with open(filename, 'x') as f:\n",
        "    f.write(json.dumps(mesh))\n",
        "\n",
        "tests = list()\n",
        "for p in range(13, 9999999):\n",
        "  tests = list()\n",
        "  for _ in range(10):\n",
        "    gen_mesh(p, 'tmp.json')\n",
        "    g = dvTools_mod.Graph(file='tmp.json')\n",
        "\n",
        "    t0 = time.time()\n",
        "    kmeans = clusterization(np.array(g.coords_point()))\n",
        "    g_sub = dict()\n",
        "    for label_idx in range(len(kmeans.labels_)):\n",
        "      label = kmeans.labels_[label_idx]\n",
        "      if label not in g_sub:\n",
        "        g_sub[label] = dict()\n",
        "      g_sub[label][label_idx] = g.data[label_idx]\n",
        "\n",
        "    for key in g_sub:\n",
        "      for point in g_sub[key]:\n",
        "        to_del = list()\n",
        "        for edge_idx in range(len(g_sub[key][point]['edges'])):\n",
        "          if g_sub[key][point]['edges'][edge_idx] not in g_sub[key]:\n",
        "            to_del.append(edge_idx)\n",
        "        \n",
        "        for edge_idx in to_del[::-1]:\n",
        "          del g_sub[key][point]['edges'][edge_idx]\n",
        "          del g_sub[key][point]['weights'][edge_idx]\n",
        "\n",
        "    path = list()\n",
        "\n",
        "    order = hsfc_sorted(kmeans.cluster_centers_)\n",
        "    connections = conection_points(order, g)\n",
        "\n",
        "    idx = 0\n",
        "    for key in order:\n",
        "      g_cur = dvTools_mod.Graph(data=g_sub[key])\n",
        "      begin = connections[idx - 1][1] if idx != 0 else None\n",
        "      end = connections[idx][0] if idx != len(order) - 1 else None\n",
        "      path += dvTools_mod.Brute_force(g_cur,\n",
        "                                    begin=begin,\n",
        "                                    end=end).paths\n",
        "      idx += 1\n",
        "    \n",
        "    time_hilbert = time.time() - t0\n",
        "    #print(time_hilbert, path)\n",
        "    tests.append(time_hilbert)\n",
        "    continue\n",
        "    #t0 = time.time()\n",
        "    #c = dvTools_mod.Brute_force(g)\n",
        "    #time_bf = time.time() - t0\n",
        "\n",
        "    weight_hilbert = sum([g.weights[path[i]][path[i + 1]] for i in range(len(path) - 1)])\n",
        "    weight_bf = sum([g.weights[c.paths[0][i]][c.paths[0][i + 1]] for i in range(len(path) - 1)])\n",
        "\n",
        "    tests[-1].append((time_hilbert,time_bf, 100 * (weight_hilbert - weight_bf) / weight_bf))\n",
        "  print(p, sum(tests) / len(tests))"
      ],
      "execution_count": null,
      "outputs": []
    },
    {
      "cell_type": "code",
      "metadata": {
        "id": "yo6EzVJj3TE4"
      },
      "source": [
        ""
      ],
      "execution_count": null,
      "outputs": []
    },
    {
      "cell_type": "code",
      "metadata": {
        "id": "z9Yjpc2Yrm-w"
      },
      "source": [
        "path"
      ],
      "execution_count": null,
      "outputs": []
    },
    {
      "cell_type": "markdown",
      "metadata": {
        "id": "YjabMYrEWL1R"
      },
      "source": [
        "# Recicle bin"
      ]
    },
    {
      "cell_type": "code",
      "metadata": {
        "id": "lj_vgcvYOukA"
      },
      "source": [
        "# Encontra primeiro o mais próximo ao centróide e depois o mais proximo ao mais próximo ao centroide.\n",
        "\n",
        "def between_centroids0(order, grafo):\n",
        "  pontos_proximos = []\n",
        "  pontos_grupo = group_points(grafo)\n",
        "  coordenadas = g.coords_point()\n",
        "\n",
        "  for group in range(len(order)-1):\n",
        "\n",
        "    # Encontra o ponto do grupo seguinte\n",
        "    distancia = -1\n",
        "    \n",
        "    for point in pontos_grupo[order[group+1]]:\n",
        "      if distancia > distance_coords(kmeans.cluster_centers_[order[group]], coordenadas[point]) or distancia == -1:\n",
        "        distancia = distance_coords(kmeans.cluster_centers_[order[group]], coordenadas[point])\n",
        "        pontos_conexao = point\n",
        "        \n",
        "    pontos_conexao = [None,pontos_conexao]\n",
        "\n",
        "    # Encontra o ponto mais próximo do ponto de conexão.\n",
        "    distancia = -1\n",
        "\n",
        "    for point in pontos_grupo[order[group]]:\n",
        "      if distancia > distance_coords(kmeans.cluster_centers_[order[group]], coordenadas[point]) or distancia == -1:\n",
        "        distancia = distance_coords(kmeans.cluster_centers_[order[group]], coordenadas[point])\n",
        "        pontos_conexao[0] = point\n",
        "    \n",
        "    pontos_proximos.append(pontos_conexao)\n",
        "  \n",
        "  return pontos_proximos     "
      ],
      "execution_count": null,
      "outputs": []
    },
    {
      "cell_type": "code",
      "metadata": {
        "colab": {
          "base_uri": "https://localhost:8080/"
        },
        "id": "L0iCdPZDMGSG",
        "outputId": "f2ff2187-d62b-48c7-b836-3252b5bd15f5"
      },
      "source": [
        "between_centroids0([0,1,2], g)"
      ],
      "execution_count": null,
      "outputs": [
        {
          "output_type": "execute_result",
          "data": {
            "text/plain": [
              "[[6, 5], [5, 2]]"
            ]
          },
          "metadata": {
            "tags": []
          },
          "execution_count": 111
        }
      ]
    },
    {
      "cell_type": "code",
      "metadata": {
        "id": "8A56-OTN-zMO"
      },
      "source": [
        "def entre_grupos(ordem, grafo):\n",
        "  pontos_grupo = group_points(grafo)\n",
        "  coordenadas = g.coords_point()\n",
        "  pontosDeConexao = []\n",
        "  \n",
        "  for i in range(len(ordem)-1):\n",
        "    distancia = -1\n",
        "\n",
        "    for j in pontos_grupo[ordem[i]]:\n",
        "      for k in pontos_grupo[ordem[i+1]]:\n",
        "        if distance_coords(coordenadas[j], coordenadas[k]) < distancia or distancia == -1:\n",
        "          distancia = distance_coords(coordenadas[j], coordenadas[k])\n",
        "          pontos = [j,k]\n",
        "        \n",
        "    pontosDeConexao.append(pontos)\n",
        "  \n",
        "  return pontosDeConexao    "
      ],
      "execution_count": null,
      "outputs": []
    },
    {
      "cell_type": "code",
      "metadata": {
        "colab": {
          "base_uri": "https://localhost:8080/"
        },
        "id": "5dEO-z6FBxuz",
        "outputId": "171f77be-39f2-4e54-e7a4-d5fa0883345d"
      },
      "source": [
        "entre_grupos([0,1,2], g)"
      ],
      "execution_count": null,
      "outputs": [
        {
          "output_type": "execute_result",
          "data": {
            "text/plain": [
              "[[4, 5], [2, 3]]"
            ]
          },
          "metadata": {
            "tags": []
          },
          "execution_count": 34
        }
      ]
    }
  ]
}